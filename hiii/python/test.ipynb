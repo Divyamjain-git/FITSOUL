{
 "cells": [
  {
   "cell_type": "code",
   "execution_count": null,
   "metadata": {},
   "outputs": [],
   "source": []
  },
  {
   "cell_type": "code",
   "execution_count": null,
   "metadata": {},
   "outputs": [
    {
     "name": "stdout",
     "output_type": "stream",
     "text": [
      "Parking fee for bus: 50 rupees\n"
     ]
    }
   ],
   "source": [
    "#7car parking time increase then 10 rupee increase  like upto 3hrs 30 rupee for car after that 40 same for bus and and scooter\n",
    "def calculate_parking_fee(vehicle_type, hours_parked):\n",
    "    rates = {\n",
    "        \"car\": {\"base\": 30, \"threshold\": 3, \"extra_charge\": 40},\n",
    "        \"bus\": {\"base\": 40, \"threshold\": 3, \"extra_charge\": 50},\n",
    "        \"scooter\": {\"base\": 20, \"threshold\": 3, \"extra_charge\": 30},\n",
    "    }\n",
    "    if vehicle_type not in rates:\n",
    "        return \"Invalid vehicle type\"\n",
    "\n",
    "    rate = rates[vehicle_type]\n",
    "    if hours_parked <= rate[\"threshold\"]:\n",
    "        return rate[\"base\"]\n",
    "    else:\n",
    "        return rate[\"extra_charge\"]\n",
    "       \n",
    "\n",
    "vehicle_type = input(\"Enter vehicle type (car/bus/scooter): \").lower()\n",
    "hours_parked = float(input(\"Enter hours parked: \"))\n",
    "\n",
    "fee = calculate_parking_fee(vehicle_type, hours_parked)\n",
    "print(f\"Parking fee for {vehicle_type}: {fee} rupees\")\n"
   ]
  },
  {
   "cell_type": "code",
   "execution_count": null,
   "metadata": {},
   "outputs": [
    {
     "name": "stdout",
     "output_type": "stream",
     "text": [
      "Original tuple: (1, 2, 2, 3, 'apple', 'banana', 'apple', 4, 5, 5)\n",
      "Tuple without duplicates: (1, 2, 3, 'apple', 'banana', 4, 5)\n"
     ]
    }
   ],
   "source": [
    "#6remove duplicate str or int from a tupple\n",
    "def remove(input_tuple):\n",
    "    return tuple(dict.fromkeys(input_tuple))\n",
    "input_tuple = (1, 2, 2, 3, \"apple\", \"banana\", \"apple\", 4, 5, 5)\n",
    "result = remove(input_tuple)\n",
    "print(\"Original tuple:\", input_tuple)\n",
    "print(\"Tuple without duplicates:\", result)\n"
   ]
  },
  {
   "cell_type": "code",
   "execution_count": null,
   "metadata": {},
   "outputs": [
    {
     "name": "stdout",
     "output_type": "stream",
     "text": [
      "d: 1\n",
      "i: 1\n",
      "v: 1\n",
      "y: 1\n",
      "a: 1\n",
      "m: 1\n"
     ]
    }
   ],
   "source": [
    "#5by using a dictionary to find recurring alphabet and how many times recurring\n",
    "def count_alphabets(string):\n",
    "    char_count = {}\n",
    "    for char in string:\n",
    "        if char.isalpha():\n",
    "            char = char.lower()\n",
    "            char_count[char] = char_count.get(char, 0) + 1\n",
    "    return char_count\n",
    "\n",
    "input_string = input(\"enter str\")\n",
    "result = count_alphabets(input_string)\n",
    "\n",
    "for char, count in result.items():\n",
    "    print(f\"{char}: {count}\")\n",
    "    "
   ]
  },
  {
   "cell_type": "code",
   "execution_count": null,
   "metadata": {},
   "outputs": [],
   "source": [
    "#4add update , delete mobile no. in a dictionary\n",
    "n=int(input('Enter number of values'))\n",
    "d={}\n",
    "for x in range(n):\n",
    "    a=input('Enter Name')\n",
    "    b=int(input('Enter Phone number'))\n",
    "    d[a]=b\n",
    "print(d)\n",
    "p=input('Enter name for data you want to change')\n",
    "q=int(input('Enter new phone number'))\n",
    "d[p]=q\n",
    "print(d)\n",
    "\n",
    "a=(input('Enter name of person you want to delete'))\n",
    "var=d.pop(a)\n",
    "print(d)\n",
    "\n",
    "m=input('Enter New Name')\n",
    "n=int(input('Enter Phone number'))\n",
    "d[m]=n\n",
    "print(d)\n"
   ]
  },
  {
   "cell_type": "code",
   "execution_count": 14,
   "metadata": {},
   "outputs": [
    {
     "name": "stdout",
     "output_type": "stream",
     "text": [
      "Rectangle:\n",
      "Area: 3136\n",
      "Perimeter: 224\n",
      "\n",
      "Circle:\n",
      "Area: 9847.04\n",
      "circumference: 351.68\n"
     ]
    }
   ],
   "source": [
    "#3find area and perimeter for rectangle and circle\n",
    "\n",
    "def rectangle_area(length, width):\n",
    "    return length * width\n",
    "\n",
    "def rectangle_perimeter(length, width):\n",
    "    return 2 * (length + width)\n",
    "\n",
    "def circle_area(radius):\n",
    "    return 3.14 * radius ** 2\n",
    "\n",
    "def circle_perimeter(radius):\n",
    "    return 2 * 3.14 * radius\n",
    "\n",
    "\n",
    "length = int(input(\"enter length\"))\n",
    "width = int(input(\"enter width\"))\n",
    "radius = int(input(\"enter radius of circle\"))\n",
    "\n",
    "print(\"Rectangle:\")\n",
    "print(f\"Area: {rectangle_area(length, width)}\")\n",
    "print(f\"Perimeter: {rectangle_perimeter(length, width)}\")\n",
    "\n",
    "print(\"\\nCircle:\")\n",
    "print(f\"Area: {circle_area(radius):.2f}\")\n",
    "print(f\"circumference: {circle_perimeter(radius):.2f}\")\n"
   ]
  },
  {
   "cell_type": "code",
   "execution_count": 19,
   "metadata": {},
   "outputs": [
    {
     "name": "stdout",
     "output_type": "stream",
     "text": [
      "5\n",
      "[1]\n",
      "[1, 1]\n",
      "[1, 2, 1]\n",
      "[1, 3, 3, 1]\n",
      "[1, 4, 6, 4, 1]\n",
      "\n",
      "\n",
      "6\n",
      "[1]\n",
      "[1, 1]\n",
      "[1, 2, 1]\n",
      "[1, 3, 3, 1]\n",
      "[1, 4, 6, 4, 1]\n",
      "[1, 5, 10, 10, 5, 1]\n",
      "\n",
      "\n",
      "7\n",
      "[1]\n",
      "[1, 1]\n",
      "[1, 2, 1]\n",
      "[1, 3, 3, 1]\n",
      "[1, 4, 6, 4, 1]\n",
      "[1, 5, 10, 10, 5, 1]\n",
      "[1, 6, 15, 20, 15, 6, 1]\n",
      "\n",
      "\n"
     ]
    }
   ],
   "source": [
    "#2make a pascel triangle for n=5,6,7\n",
    "\n",
    "def pascal_triangle(n):\n",
    "    triangle = [[1]]\n",
    "    for i in range(1, n):\n",
    "        row = [1]\n",
    "        row += [triangle[i-1][j] + triangle[i-1][j+1]\n",
    "              for j in range(i - 1)]\n",
    "        row.append(1)\n",
    "        triangle.append(row)\n",
    "    return triangle\n",
    "for n in [5, 6, 7]:\n",
    "    print(n)\n",
    "    for row in pascal_triangle(n):\n",
    "        print(row)\n",
    "    print(\"\\n\")\n",
    "\n"
   ]
  },
  {
   "cell_type": "code",
   "execution_count": null,
   "metadata": {},
   "outputs": [],
   "source": [
    "#1write a fibbonacci series using recursive function  in python\n"
   ]
  },
  {
   "cell_type": "code",
   "execution_count": null,
   "metadata": {},
   "outputs": [
    {
     "name": "stdout",
     "output_type": "stream",
     "text": [
      "[0, 1, 1, 2, 3]\n"
     ]
    }
   ],
   "source": [
    "#1\n",
    "def fibonacci(n):\n",
    "    if n <= 0:\n",
    "        return 0\n",
    "    elif n == 1:\n",
    "        return 1\n",
    "    else:\n",
    "        return fibonacci(n-1) + fibonacci(n-2)\n",
    "    \n",
    "def generate(terms):\n",
    "    series = [fibonacci(i) for i in range(terms)]\n",
    "    return series\n",
    "num_terms=5\n",
    "print(generate(num_terms))\n"
   ]
  }
 ],
 "metadata": {
  "kernelspec": {
   "display_name": "Python 3",
   "language": "python",
   "name": "python3"
  },
  "language_info": {
   "codemirror_mode": {
    "name": "ipython",
    "version": 3
   },
   "file_extension": ".py",
   "mimetype": "text/x-python",
   "name": "python",
   "nbconvert_exporter": "python",
   "pygments_lexer": "ipython3",
   "version": "3.12.4"
  }
 },
 "nbformat": 4,
 "nbformat_minor": 2
}
